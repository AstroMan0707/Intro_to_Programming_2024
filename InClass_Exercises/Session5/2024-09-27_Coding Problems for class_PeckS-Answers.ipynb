{
 "cells": [
  {
   "cell_type": "markdown",
   "id": "a4ba3ffb",
   "metadata": {},
   "source": [
    "Easy:\n",
    "make a function that return the list letter of every string in list of stings that are themselves in a list"
   ]
  },
  {
   "cell_type": "code",
   "execution_count": 7,
   "id": "079665db",
   "metadata": {
    "scrolled": true
   },
   "outputs": [
    {
     "data": {
      "text/plain": [
       "['h', 'e', 'a', 'v', 'y', ' ', 'm', 'e', 't', 'a', 'l']"
      ]
     },
     "execution_count": 7,
     "metadata": {},
     "output_type": "execute_result"
    }
   ],
   "source": [
    "def list_in_list(lst):\n",
    "    outlist = []\n",
    "    for item in lst:\n",
    "        for letter in item:\n",
    "            outlist.append(letter[0])\n",
    "            \n",
    "    return outlist\n",
    "\n",
    "lstin = [['hello', 'ear', 'air'],['vintage', 'yellow', ' '],['meat','east', 'tunnel'],[ 'army', 'lead'  ]]\n",
    "list_in_list(lstin)            \n",
    "            \n",
    "            "
   ]
  },
  {
   "cell_type": "markdown",
   "id": "f328935d",
   "metadata": {},
   "source": [
    "Medium:\n",
    "create a function that extends a list with zeros so it is a desired length, and changes the last value stored in the list to a specifc number"
   ]
  },
  {
   "cell_type": "code",
   "execution_count": 31,
   "id": "a0c12b16",
   "metadata": {},
   "outputs": [
    {
     "name": "stdout",
     "output_type": "stream",
     "text": [
      "[['hello', 'ear', 'air'], ['vintage', 'yellow', ' '], ['meat', 'east', 'tunnel'], ['army', 'lead'], 0, 0, 0, 0, 0, 0, 0, 0, 0, 0, 0, 0, 0, 0, 4, 0, 4]\n",
      "21\n"
     ]
    }
   ],
   "source": [
    "def Extend_List(myList, Len, new ):        \n",
    "    while len(myList) < Len:\n",
    "        myList.append(0) \n",
    "    myList[Len-1] = new\n",
    "        \n",
    "Extend_List(lstin, 19, 4)\n",
    "print(lstin)\n",
    "print(len(lstin))"
   ]
  },
  {
   "cell_type": "code",
   "execution_count": null,
   "id": "927ba8fc",
   "metadata": {},
   "outputs": [],
   "source": [
    "Hard:\n",
    "make a function that takes in a list and treats the the list in index as the magnitude of a varible \n",
    "and the value stored as the frequency it appears in a dataset. Based off this, average the dataset\n",
    "\n",
    "In other words, multiple each list value  by one more than its index value, and add those numbers together.\n",
    "Then, divide that number by the sum of all the list values added together"
   ]
  },
  {
   "cell_type": "code",
   "execution_count": 24,
   "id": "321f3419",
   "metadata": {
    "scrolled": true
   },
   "outputs": [
    {
     "name": "stdout",
     "output_type": "stream",
     "text": [
      "3.0\n",
      "3.0\n"
     ]
    }
   ],
   "source": [
    "def Streak_Mean(myList):\n",
    "\n",
    "    x=1\n",
    "    total = 0\n",
    "    valueAmount = 0\n",
    "    for item in myList:\n",
    "        if item > 0:\n",
    "            valueAmount += item\n",
    "        total += (item * x)\n",
    "        x += 1\n",
    "    if valueAmount == 0:\n",
    "        return(0)\n",
    "    else:\n",
    "        total = total / valueAmount\n",
    "        return(total)\n",
    "\n",
    "def Streak_Mean2(lst):  \n",
    "    top = 0\n",
    "    for item in lst:\n",
    "        top += item*(lst.index(item)+1)\n",
    "    return(top / sum(lst))\n",
    "    \n",
    "\n",
    "lst = [1,2,3,4]\n",
    "print(Streak_Mean(lst))\n",
    "print(Streak_Mean2(lst))"
   ]
  },
  {
   "cell_type": "code",
   "execution_count": 13,
   "id": "98e809b6",
   "metadata": {},
   "outputs": [
    {
     "data": {
      "text/plain": [
       "3.0"
      ]
     },
     "execution_count": 13,
     "metadata": {},
     "output_type": "execute_result"
    }
   ],
   "source": [
    "(1 + 4 + 9 + 16) / (1 + 2+3+4)\n"
   ]
  }
 ],
 "metadata": {
  "kernelspec": {
   "display_name": "Python 3 (ipykernel)",
   "language": "python",
   "name": "python3"
  },
  "language_info": {
   "codemirror_mode": {
    "name": "ipython",
    "version": 3
   },
   "file_extension": ".py",
   "mimetype": "text/x-python",
   "name": "python",
   "nbconvert_exporter": "python",
   "pygments_lexer": "ipython3",
   "version": "3.9.13"
  }
 },
 "nbformat": 4,
 "nbformat_minor": 5
}
