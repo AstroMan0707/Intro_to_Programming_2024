{
 "cells": [
  {
   "cell_type": "code",
   "execution_count": 73,
   "id": "a1d5f285-add0-4d4f-8c90-06fea903ddb7",
   "metadata": {},
   "outputs": [],
   "source": [
    "# EXERCISE 1:\n",
    "# define a class HappyDog that is inherited from the class below\n",
    "# redfine the is_happy method to make it applicable for the dog class\n",
    "class HappyCow():\n",
    "    def __init__(self,name,color):\n",
    "        self.color = color\n",
    "        self.name = name\n",
    "    def is_happy(self):\n",
    "         print(\"{} is a happy cow!\".format(self.name))\n",
    "\n",
    "class HappyDog(HappyCow):\n",
    "    def is_happy(self):\n",
    "        print(\"{} is a happy dog!\".format(self.name))"
   ]
  },
  {
   "cell_type": "code",
   "execution_count": 79,
   "id": "2f2f766c-d2ae-4d60-8097-85362dfde77d",
   "metadata": {},
   "outputs": [],
   "source": [
    "my_dog = HappyDog('Honey', 'golden')"
   ]
  },
  {
   "cell_type": "code",
   "execution_count": 83,
   "id": "e29e6666-35be-4735-9664-4b8e0df72595",
   "metadata": {},
   "outputs": [
    {
     "name": "stdout",
     "output_type": "stream",
     "text": [
      "Honey is a happy dog!\n"
     ]
    }
   ],
   "source": [
    "my_dog.is_happy()"
   ]
  },
  {
   "cell_type": "code",
   "execution_count": 5,
   "id": "f73180a7-9bd6-40f9-bc33-25cdb0b55ff2",
   "metadata": {},
   "outputs": [],
   "source": [
    "# OLD EXERCISE 1:\n",
    "# define a class HappyCow that:\n",
    "# 1) will return 'happy' when a class object attribute cowtype is called\n",
    "# 2) uses the __init__ method to define 2 attributes for the color and name of the cow\n",
    "# 2) has a method cow_age that accepts an outside argument for age to print the cow's name and it's age\n",
    "class HappyCow():\n",
    "    happy = 'happy'\n",
    "    def __init__(self,color,name):\n",
    "        self.color = color\n",
    "        self.name = name\n",
    "    def cow_age(self,age):\n",
    "         print(\"{} is {} years old!\".format(self.name,age))"
   ]
  },
  {
   "cell_type": "code",
   "execution_count": 61,
   "id": "93d47bc1-3de5-4476-9228-65279a62251d",
   "metadata": {},
   "outputs": [],
   "source": [
    "# check by running the following cells:\n",
    "#my_cow = HappyCow('brown','Daisy')"
   ]
  },
  {
   "cell_type": "code",
   "execution_count": 63,
   "id": "2690813e-c674-40d7-89bc-339780aa624f",
   "metadata": {},
   "outputs": [
    {
     "data": {
      "text/plain": [
       "'happy'"
      ]
     },
     "execution_count": 63,
     "metadata": {},
     "output_type": "execute_result"
    }
   ],
   "source": [
    "# class object attribute test\n",
    "#my_cow.cowtype"
   ]
  },
  {
   "cell_type": "code",
   "execution_count": 65,
   "id": "f4c94c2d-bc35-408f-a827-d5153ec65c78",
   "metadata": {},
   "outputs": [
    {
     "name": "stdout",
     "output_type": "stream",
     "text": [
      "Daisy is 3 years old!\n"
     ]
    }
   ],
   "source": [
    "#my_cow.cow_age(3)"
   ]
  },
  {
   "cell_type": "code",
   "execution_count": 9,
   "id": "742545b0-9d39-4c72-a428-aea5a855e555",
   "metadata": {},
   "outputs": [],
   "source": [
    "# EXERCISE 2:\n",
    "# write a function that:\n",
    "# 1) accepts a string input from a user and prints 'you betcha' for every vowel (a,e,i,o,u) in the string\n",
    "# 2) prints 'ope' for any y's in the string\n",
    "# 3) validates user inputs against numerical inputs \n",
    "# 4) returns the number of vowels at the end\n",
    "\n",
    "def opefunc():\n",
    "    userin = input(\"Please write a short sentence: \").lower()\n",
    "    vcount = 0\n",
    "    if userin.isdigit() == True:\n",
    "        print (\"that is not a valid sentence\")\n",
    "        userin = input(\"Please write a short sentence: \")\n",
    "    if userin.isdigit() == False:\n",
    "        vowels = ['a','e','i','o','u']\n",
    "        yv = ['y']\n",
    "        for x in userin:\n",
    "            if x in vowels:\n",
    "                vcount +=1\n",
    "                print (\"you betcha\")\n",
    "            if x in yv:\n",
    "                print('ope')\n",
    "    return vcount"
   ]
  },
  {
   "cell_type": "code",
   "execution_count": 15,
   "id": "89b31044-394f-4ed3-8bf9-23f67646a5c0",
   "metadata": {},
   "outputs": [
    {
     "name": "stdin",
     "output_type": "stream",
     "text": [
      "Please write a short sentence:  I get coffee at Kwik Trip every morning\n"
     ]
    },
    {
     "name": "stdout",
     "output_type": "stream",
     "text": [
      "you betcha\n",
      "you betcha\n",
      "you betcha\n",
      "you betcha\n",
      "you betcha\n",
      "you betcha\n",
      "you betcha\n",
      "you betcha\n",
      "you betcha\n",
      "you betcha\n",
      "ope\n",
      "you betcha\n",
      "you betcha\n"
     ]
    },
    {
     "data": {
      "text/plain": [
       "12"
      ]
     },
     "execution_count": 15,
     "metadata": {},
     "output_type": "execute_result"
    }
   ],
   "source": [
    "opefunc()"
   ]
  },
  {
   "cell_type": "code",
   "execution_count": 99,
   "id": "732a178f-3230-4a1f-99ef-4e0fb75e1a16",
   "metadata": {},
   "outputs": [],
   "source": [
    "# EXERCISE 3:\n",
    "# the following code accepts an ingredient input from the user and checks if it's in their fridge or pantry.\n",
    "# if the item is in either the fridge or pantry, the location of the item is given \n",
    "# if the item is not in the fridge or the pantry, the user is told they do not have that item\n",
    "\n",
    "# For this exercise, modify the code so:\n",
    "# 1) after each response, the user is given the option to check another ingredient \n",
    "# 2) instead of returning 'you do not have ___\", missing items are added to a grocery list\n",
    "# 3) a final grocery list with all of the missing items is returned when the user is done checking ingredients\n",
    "\n",
    "grocerylist = []\n",
    "\n",
    "def groceriescheck():\n",
    "    gcheck = input(\"Check another ingredient (Y or N)?\").upper()\n",
    "    if gcheck == 'N': \n",
    "        print (f'Grocery list: {grocerylist}')\n",
    "        pass\n",
    "    elif gcheck == 'Y':\n",
    "        groceries()\n",
    "    else:\n",
    "        print(\"please answer Y or N\")\n",
    "        groceriescheck()\n",
    "\n",
    "def groceries():\n",
    "    fridge = ['milk','eggs','yogurt','apples','carrots','spinach','tomatoes']\n",
    "    pantry = ['flour','sugar','salt','oil','cereal','rice','pasta','potatoes']\n",
    "    ingredient = input(\"Enter an ingredient: \").lower()\n",
    "    if ingredient in fridge:\n",
    "        print(f\"you have {ingredient} in the fridge\")\n",
    "    elif ingredient in pantry:\n",
    "        print(f\"you have {ingredient} in the pantry\")\n",
    "    else:\n",
    "        print(f\"{ingredient} has been added to the grocery list\")\n",
    "        grocerylist.append(ingredient)\n",
    "    groceriescheck()\n",
    "\n",
    "# .upper() added to gcheck\n",
    "# .lower() aded to ingredient\n",
    "# empty list grocerylist created\n",
    "# print(f'Grocery list: {grocerylist}') added to if gcheck == N\n",
    "# print(f'you don't have {ingredient}') changed to print(f\"{ingredient} has been added to the grocery list\") under the else statement in groceries()\n",
    "# grocerylist.append(ingredient) added to else statement in groceries()"
   ]
  },
  {
   "cell_type": "code",
   "execution_count": 101,
   "id": "482dd7ea-d66a-41ad-9423-72e3388b7d44",
   "metadata": {},
   "outputs": [
    {
     "name": "stdin",
     "output_type": "stream",
     "text": [
      "Enter an ingredient:  milk\n"
     ]
    },
    {
     "name": "stdout",
     "output_type": "stream",
     "text": [
      "you have milk in the fridge\n"
     ]
    },
    {
     "name": "stdin",
     "output_type": "stream",
     "text": [
      "Check another ingredient (Y or N)? y\n",
      "Enter an ingredient:  pasta\n"
     ]
    },
    {
     "name": "stdout",
     "output_type": "stream",
     "text": [
      "you have pasta in the pantry\n"
     ]
    },
    {
     "name": "stdin",
     "output_type": "stream",
     "text": [
      "Check another ingredient (Y or N)? y\n",
      "Enter an ingredient:  bread\n"
     ]
    },
    {
     "name": "stdout",
     "output_type": "stream",
     "text": [
      "bread has been added to the grocery list\n"
     ]
    },
    {
     "name": "stdin",
     "output_type": "stream",
     "text": [
      "Check another ingredient (Y or N)? y\n",
      "Enter an ingredient:  beans\n"
     ]
    },
    {
     "name": "stdout",
     "output_type": "stream",
     "text": [
      "beans has been added to the grocery list\n"
     ]
    },
    {
     "name": "stdin",
     "output_type": "stream",
     "text": [
      "Check another ingredient (Y or N)? yes\n"
     ]
    },
    {
     "name": "stdout",
     "output_type": "stream",
     "text": [
      "please answer Y or N\n"
     ]
    },
    {
     "name": "stdin",
     "output_type": "stream",
     "text": [
      "Check another ingredient (Y or N)? y\n",
      "Enter an ingredient:  salt\n"
     ]
    },
    {
     "name": "stdout",
     "output_type": "stream",
     "text": [
      "you have salt in the pantry\n"
     ]
    },
    {
     "name": "stdin",
     "output_type": "stream",
     "text": [
      "Check another ingredient (Y or N)? n\n"
     ]
    },
    {
     "name": "stdout",
     "output_type": "stream",
     "text": [
      "Grocery list: ['bread', 'beans']\n"
     ]
    }
   ],
   "source": [
    "# check\n",
    "groceries()"
   ]
  },
  {
   "cell_type": "code",
   "execution_count": null,
   "id": "e9d83136-6dde-444a-ade1-6a140f8f798d",
   "metadata": {},
   "outputs": [],
   "source": []
  }
 ],
 "metadata": {
  "kernelspec": {
   "display_name": "Python 3 (ipykernel)",
   "language": "python",
   "name": "python3"
  },
  "language_info": {
   "codemirror_mode": {
    "name": "ipython",
    "version": 3
   },
   "file_extension": ".py",
   "mimetype": "text/x-python",
   "name": "python",
   "nbconvert_exporter": "python",
   "pygments_lexer": "ipython3",
   "version": "3.12.4"
  }
 },
 "nbformat": 4,
 "nbformat_minor": 5
}
