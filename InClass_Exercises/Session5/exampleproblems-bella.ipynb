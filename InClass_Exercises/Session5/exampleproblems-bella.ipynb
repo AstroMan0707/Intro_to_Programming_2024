{
 "cells": [
  {
   "cell_type": "code",
   "execution_count": 1,
   "id": "be2e94b2-fb28-4a48-8946-837bd7bc3cc0",
   "metadata": {},
   "outputs": [],
   "source": [
    "# EXERCISE 1: \n",
    "# define a class HappyDog that is inherited from the class HappyCow below\n",
    "# redfine the is_happy method to make it applicable for the dog class\n",
    "class HappyCow():\n",
    "    def __init__(self,name,color):\n",
    "        self.color = color\n",
    "        self.name = name\n",
    "    def is_happy(self):\n",
    "         print(\"{} is a happy cow!\".format(self.name))\n"
   ]
  },
  {
   "cell_type": "code",
   "execution_count": null,
   "id": "c5c84337-e957-4ab4-9b4b-a84a1dc0d9f2",
   "metadata": {},
   "outputs": [],
   "source": [
    "# check\n"
   ]
  },
  {
   "cell_type": "code",
   "execution_count": 3,
   "id": "d65d6510-6b63-4065-8b56-c65dcae0413d",
   "metadata": {},
   "outputs": [],
   "source": [
    "# EXERCISE 2:\n",
    "# write a function that:\n",
    "# 1) accepts a string input from a user and prints 'you betcha' for every vowel (a,e,i,o,u) in the string\n",
    "# 2) prints 'ope' for any y's in the string\n",
    "# 3) validates user inputs so that numerical inputs are not accepted\n",
    "# 4) returns the number of vowels in the string\n",
    "\n",
    "def wiscfunc():\n",
    "    pass\n",
    "    "
   ]
  },
  {
   "cell_type": "code",
   "execution_count": null,
   "id": "019fe731-0fe5-4fb5-ab27-11eea134b6f5",
   "metadata": {},
   "outputs": [],
   "source": [
    "# check \n",
    "# wiscfunc()"
   ]
  },
  {
   "cell_type": "code",
   "execution_count": 5,
   "id": "6d767db1-87fa-4b9c-97c9-086b6cbaaf17",
   "metadata": {},
   "outputs": [],
   "source": [
    "# EXERCISE 3:\n",
    "# the following code accepts an ingredient input from the user and checks if it's in their fridge or pantry.\n",
    "# if the item is in either the fridge or pantry, the location of the item is given \n",
    "# if the item is not in the fridge or the pantry, the user is told they do not have that item\n",
    "\n",
    "# For this exercise, modify the code so:\n",
    "# 1) after each response, the user is given the option to check another ingredient \n",
    "# 2) instead of returning 'you do not have ___\", missing items are added to a grocery list\n",
    "# 3) a final grocery list with all of the missing items is returned when the user is done checking ingredients\n",
    "\n",
    "def groceries():\n",
    "    fridge = ['milk','eggs','yogurt','apples','carrots','spinach','tomatoes']\n",
    "    pantry = ['flour','sugar','salt','oil','cereal','rice','pasta','potatoes']\n",
    "    ingredient = input(\"Enter an ingredient: \")\n",
    "    if ingredient in fridge:\n",
    "        print(f\"you have {ingredient} in the fridge\")\n",
    "    elif ingredient in pantry:\n",
    "        print(f\"you have {ingredient} in the pantry\")\n",
    "    else:\n",
    "        print(f\"you do not have {ingredient}\")\n"
   ]
  },
  {
   "cell_type": "code",
   "execution_count": 7,
   "id": "90dfaf5b-edd0-4c33-93a6-6baa74817926",
   "metadata": {},
   "outputs": [],
   "source": [
    "# check\n",
    "# groceries()"
   ]
  },
  {
   "cell_type": "code",
   "execution_count": null,
   "id": "d7a13338-9aac-410f-b94c-fe2a42716855",
   "metadata": {},
   "outputs": [],
   "source": []
  }
 ],
 "metadata": {
  "kernelspec": {
   "display_name": "Python 3 (ipykernel)",
   "language": "python",
   "name": "python3"
  },
  "language_info": {
   "codemirror_mode": {
    "name": "ipython",
    "version": 3
   },
   "file_extension": ".py",
   "mimetype": "text/x-python",
   "name": "python",
   "nbconvert_exporter": "python",
   "pygments_lexer": "ipython3",
   "version": "3.12.4"
  }
 },
 "nbformat": 4,
 "nbformat_minor": 5
}
