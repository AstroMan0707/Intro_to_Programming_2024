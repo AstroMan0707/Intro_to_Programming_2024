{
 "cells": [
  {
   "cell_type": "code",
   "execution_count": 1,
   "id": "76e7f8d2-ca13-440c-bada-36bf107948e0",
   "metadata": {},
   "outputs": [],
   "source": [
    "#Create a user input that asks a simple math question and outputs an integer answer\n",
    "        "
   ]
  },
  {
   "cell_type": "code",
   "execution_count": null,
   "id": "52a99c5c-2bbb-418b-9fab-9f1ee48f8fad",
   "metadata": {},
   "outputs": [],
   "source": [
    "\n"
   ]
  },
  {
   "cell_type": "code",
   "execution_count": null,
   "id": "84ce06c5-c766-4c4f-9f4b-6c70db75e48f",
   "metadata": {},
   "outputs": [],
   "source": [
    "# Create a Class with three attributes: Name, Age, Eye Color. Apply these traits to yourself. And create a Method using  print and .format where you introduce yourself"
   ]
  },
  {
   "cell_type": "code",
   "execution_count": null,
   "id": "f431c879-56ae-4791-b00a-116acd2f4840",
   "metadata": {},
   "outputs": [],
   "source": []
  },
  {
   "cell_type": "code",
   "execution_count": null,
   "id": "27bdfa3f-f8d0-40fa-806c-5675248d7038",
   "metadata": {},
   "outputs": [],
   "source": []
  },
  {
   "cell_type": "code",
   "execution_count": null,
   "id": "d1ac579e-5ac5-4c31-939a-855bf370f175",
   "metadata": {},
   "outputs": [],
   "source": []
  },
  {
   "cell_type": "code",
   "execution_count": null,
   "id": "80bbb522-21f1-4597-8062-4062fdadb34c",
   "metadata": {},
   "outputs": [],
   "source": []
  },
  {
   "cell_type": "code",
   "execution_count": null,
   "id": "38ef442d-2884-47c8-90af-8c31b9bfd145",
   "metadata": {},
   "outputs": [],
   "source": [
    "#Use a Class Method to determine the square root of the area rectangle. Determine if the square root of the area is greater than 10 and print “yes” or “no”"
   ]
  },
  {
   "cell_type": "code",
   "execution_count": null,
   "id": "ef782bf5-d6e9-422d-82ae-89eda6b0543e",
   "metadata": {},
   "outputs": [],
   "source": []
  },
  {
   "cell_type": "code",
   "execution_count": null,
   "id": "9d4e74f7-92c5-4208-a925-2755ba79d137",
   "metadata": {},
   "outputs": [],
   "source": []
  },
  {
   "cell_type": "code",
   "execution_count": null,
   "id": "6f490120-49c0-44db-9694-a3e8e68022ec",
   "metadata": {},
   "outputs": [],
   "source": []
  },
  {
   "cell_type": "code",
   "execution_count": null,
   "id": "a860dd3b-09cf-4930-99e2-84fd7db65a3d",
   "metadata": {},
   "outputs": [],
   "source": []
  }
 ],
 "metadata": {
  "kernelspec": {
   "display_name": "Python 3 (ipykernel)",
   "language": "python",
   "name": "python3"
  },
  "language_info": {
   "codemirror_mode": {
    "name": "ipython",
    "version": 3
   },
   "file_extension": ".py",
   "mimetype": "text/x-python",
   "name": "python",
   "nbconvert_exporter": "python",
   "pygments_lexer": "ipython3",
   "version": "3.12.4"
  }
 },
 "nbformat": 4,
 "nbformat_minor": 5
}
