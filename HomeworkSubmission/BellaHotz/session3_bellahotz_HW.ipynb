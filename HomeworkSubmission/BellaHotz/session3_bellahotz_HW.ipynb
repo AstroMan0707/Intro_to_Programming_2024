{
 "cells": [
  {
   "cell_type": "code",
   "execution_count": null,
   "id": "6046e052",
   "metadata": {},
   "outputs": [],
   "source": [
    "\"\"\"\n",
    "Created on Tue Sep 10 08:52:02 2024\n",
    "\n",
    "@author: Gsima\n",
    "\"\"\""
   ]
  },
  {
   "cell_type": "code",
   "execution_count": 29,
   "id": "11e1502c",
   "metadata": {},
   "outputs": [
    {
     "data": {
      "text/plain": [
       "bool"
      ]
     },
     "execution_count": 29,
     "metadata": {},
     "output_type": "execute_result"
    }
   ],
   "source": [
    "#Question 1: what is the command that tells you the syntax for a variable? Tell me the syntax type for variable 'over_18'\n",
    "over_18 = True\n",
    "type(over_18)"
   ]
  },
  {
   "cell_type": "markdown",
   "id": "aa0e237e",
   "metadata": {},
   "source": [
    "Question 2: Set your name as a variable equal to your age. Write comparison operators using >, <, >=, <=, and !=."
   ]
  },
  {
   "cell_type": "code",
   "execution_count": 1,
   "id": "15b7cde1-fd55-4e73-9340-608b08c5b852",
   "metadata": {},
   "outputs": [
    {
     "data": {
      "text/plain": [
       "True"
      ]
     },
     "execution_count": 1,
     "metadata": {},
     "output_type": "execute_result"
    }
   ],
   "source": [
    "bella = 25\n",
    "bella > 21"
   ]
  },
  {
   "cell_type": "code",
   "execution_count": 3,
   "id": "ff0be1ba-48ff-4826-afb3-4c4e7ae63a2b",
   "metadata": {},
   "outputs": [
    {
     "data": {
      "text/plain": [
       "True"
      ]
     },
     "execution_count": 3,
     "metadata": {},
     "output_type": "execute_result"
    }
   ],
   "source": [
    "bella < 30"
   ]
  },
  {
   "cell_type": "code",
   "execution_count": 13,
   "id": "7eb9a3c9-4c7b-4fb8-b170-1c422391ad77",
   "metadata": {},
   "outputs": [
    {
     "data": {
      "text/plain": [
       "True"
      ]
     },
     "execution_count": 13,
     "metadata": {},
     "output_type": "execute_result"
    }
   ],
   "source": [
    "patty = 17\n",
    "bella >= patty"
   ]
  },
  {
   "cell_type": "code",
   "execution_count": 15,
   "id": "cdd74345-e1c9-458c-b252-3ae6e964db8f",
   "metadata": {},
   "outputs": [
    {
     "data": {
      "text/plain": [
       "False"
      ]
     },
     "execution_count": 15,
     "metadata": {},
     "output_type": "execute_result"
    }
   ],
   "source": [
    "bella <= patty"
   ]
  },
  {
   "cell_type": "code",
   "execution_count": 17,
   "id": "2956fde5-cf8d-4a64-aef5-bf665b6a1daa",
   "metadata": {},
   "outputs": [
    {
     "data": {
      "text/plain": [
       "False"
      ]
     },
     "execution_count": 17,
     "metadata": {},
     "output_type": "execute_result"
    }
   ],
   "source": [
    "matt = 25\n",
    "bella != matt"
   ]
  },
  {
   "cell_type": "code",
   "execution_count": null,
   "id": "dfda19a9",
   "metadata": {},
   "outputs": [],
   "source": [
    "#Question 3: Indicate whether the following are True or False and why?\n",
    "6 == 6.0\n",
    "6 == '6.0'\n",
    "\n",
    "# 6 == 6.0 will be true for the first item and false for the second because == can be applied to 6 as a tuple\n",
    "# 6 == '6.0' will be false because == is being applied to the entire string '6, 0'. also I don't think a numerical value 6 will be = to string value 6"
   ]
  },
  {
   "cell_type": "markdown",
   "id": "5794d80d",
   "metadata": {
    "lines_to_next_cell": 2
   },
   "source": [
    "Question 4: Write code using all three logic operators. You can have three separate lines of code or you may combine operators."
   ]
  },
  {
   "cell_type": "code",
   "execution_count": 25,
   "id": "a094aa24-37c7-4e3c-86bf-91d380303b3b",
   "metadata": {},
   "outputs": [
    {
     "name": "stdout",
     "output_type": "stream",
     "text": [
      "check the pantry\n"
     ]
    }
   ],
   "source": [
    "ingredient = \"celery\"\n",
    "if ingredient == \"potatoes\":\n",
    "    print(\"we have those at home\")\n",
    "elif ingredient == \"shallots\":\n",
    "    print(\"we need to buy those from the store\")\n",
    "elif ingredient == \"carrots\":\n",
    "    print(\"add that to the grocery list\")\n",
    "else:\n",
    "    print(\"check the pantry\")"
   ]
  },
  {
   "cell_type": "markdown",
   "id": "80e3690d",
   "metadata": {},
   "source": [
    "Question 5: Using conditional syntax, create code indicating whether you are old enough to vote (Use 'if' and 'else')."
   ]
  },
  {
   "cell_type": "code",
   "execution_count": 27,
   "id": "fb43abe4-cac5-4e82-956c-ffe07db050eb",
   "metadata": {},
   "outputs": [
    {
     "name": "stdout",
     "output_type": "stream",
     "text": [
      "Bella is old enough to vote\n"
     ]
    }
   ],
   "source": [
    "b_age = 25\n",
    "\n",
    "if b_age >= 18: \n",
    "    print('Bella is old enough to vote')\n",
    "else:\n",
    "    print ('Bella is not old enough to vote')"
   ]
  },
  {
   "cell_type": "code",
   "execution_count": null,
   "id": "10304959-df98-4a0b-8f24-a5ea50a68e43",
   "metadata": {},
   "outputs": [],
   "source": []
  }
 ],
 "metadata": {
  "jupytext": {
   "cell_metadata_filter": "-all",
   "encoding": "# -*- coding: utf-8 -*-",
   "main_language": "python",
   "notebook_metadata_filter": "-all"
  },
  "kernelspec": {
   "display_name": "Python 3 (ipykernel)",
   "language": "python",
   "name": "python3"
  },
  "language_info": {
   "codemirror_mode": {
    "name": "ipython",
    "version": 3
   },
   "file_extension": ".py",
   "mimetype": "text/x-python",
   "name": "python",
   "nbconvert_exporter": "python",
   "pygments_lexer": "ipython3",
   "version": "3.12.4"
  }
 },
 "nbformat": 4,
 "nbformat_minor": 5
}
